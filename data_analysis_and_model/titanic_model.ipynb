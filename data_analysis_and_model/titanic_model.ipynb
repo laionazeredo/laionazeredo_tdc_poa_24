{
 "cells": [
  {
   "cell_type": "markdown",
   "metadata": {},
   "source": [
    "# Titanic Survival Prediction\n",
    "\n",
    "> ❗ Este modelo é fortemente inspirado [neste post da documentação do Danfo.](https://danfo.jsdata.org/examples/titanic-survival-prediction-using-danfo.js-and-tensorflow.js)\n",
    "> "
   ]
  },
  {
   "cell_type": "markdown",
   "metadata": {},
   "source": [
    "### Importar *libs*"
   ]
  },
  {
   "cell_type": "code",
   "execution_count": 1,
   "metadata": {},
   "outputs": [],
   "source": [
    "import dfd from 'danfojs-node';\n",
    "\n",
    "const tf = dfd.tensorflow;"
   ]
  },
  {
   "cell_type": "markdown",
   "metadata": {},
   "source": [
    "### Carregar dados\n",
    "\n",
    "Os dados serão carregados de um `csv`, pré-baixado no diretório `./data` e que foi [obtido da Universidade de Stanford](https://web.stanford.edu/class/archive/cs/cs109/cs109.1166/stuff/titanic.csv)."
   ]
  },
  {
   "cell_type": "code",
   "execution_count": 2,
   "metadata": {},
   "outputs": [
    {
     "data": {
      "text/plain": [
       "Promise { \u001b[36m<pending>\u001b[39m }"
      ]
     },
     "execution_count": 2,
     "metadata": {},
     "output_type": "execute_result"
    },
    {
     "name": "stdout",
     "output_type": "stream",
     "text": [
      "╔════════════╤═══════════════════╤═══════════════════╤═══════════════════╤═══════════════════╤═══════════════════╤═══════════════════╤═══════════════════╤═══════════════════╗\n",
      "║            │ Survived          │ Pclass            │ Name              │ Sex               │ Age               │ Siblings/Spouse…  │ Parents/Childre…  │ Fare              ║\n",
      "╟────────────┼───────────────────┼───────────────────┼───────────────────┼───────────────────┼───────────────────┼───────────────────┼───────────────────┼───────────────────╢\n",
      "║ 0          │ 0                 │ 3                 │ Mr. Owen Harris…  │ male              │ 22                │ 1                 │ 0                 │ 7.25              ║\n",
      "╟────────────┼───────────────────┼───────────────────┼───────────────────┼───────────────────┼───────────────────┼───────────────────┼───────────────────┼───────────────────╢\n",
      "║ 1          │ 1                 │ 1                 │ Mrs. John Bradl…  │ female            │ 38                │ 1                 │ 0                 │ 71.2833           ║\n",
      "╟────────────┼───────────────────┼───────────────────┼───────────────────┼───────────────────┼───────────────────┼───────────────────┼───────────────────┼───────────────────╢\n",
      "║ 2          │ 1                 │ 3                 │ Miss. Laina Hei…  │ female            │ 26                │ 0                 │ 0                 │ 7.925             ║\n",
      "╟────────────┼───────────────────┼───────────────────┼───────────────────┼───────────────────┼───────────────────┼───────────────────┼───────────────────┼───────────────────╢\n",
      "║ 3          │ 1                 │ 1                 │ Mrs. Jacques He…  │ female            │ 35                │ 1                 │ 0                 │ 53.1              ║\n",
      "╟────────────┼───────────────────┼───────────────────┼───────────────────┼───────────────────┼───────────────────┼───────────────────┼───────────────────┼───────────────────╢\n",
      "║ 4          │ 0                 │ 3                 │ Mr. William Hen…  │ male              │ 35                │ 0                 │ 0                 │ 8.05              ║\n",
      "╚════════════╧═══════════════════╧═══════════════════╧═══════════════════╧═══════════════════╧═══════════════════╧═══════════════════╧═══════════════════╧═══════════════════╝\n",
      "\n"
     ]
    }
   ],
   "source": [
    "\n",
    "\n",
    "const load_data = async () =>\n",
    "{\n",
    "  const df = await dfd.readCSV( \"https://web.stanford.edu/class/archive/cs/cs109/cs109.1166/stuff/titanic.csv\" );\n",
    "  df.head().print();\n",
    "};\n",
    "\n",
    "load_data();"
   ]
  }
 ],
 "metadata": {
  "kernelspec": {
   "display_name": "Deno",
   "language": "typescript",
   "name": "deno"
  },
  "language_info": {
   "codemirror_mode": "typescript",
   "file_extension": ".ts",
   "mimetype": "text/x.typescript",
   "name": "typescript",
   "nbconvert_exporter": "script",
   "pygments_lexer": "typescript",
   "version": "5.6.2"
  }
 },
 "nbformat": 4,
 "nbformat_minor": 2
}

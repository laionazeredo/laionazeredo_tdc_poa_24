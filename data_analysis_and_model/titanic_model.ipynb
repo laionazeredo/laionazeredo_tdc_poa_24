{
 "cells": [
  {
   "cell_type": "markdown",
   "metadata": {},
   "source": [
    "# Titanic Survival Prediction\n",
    "\n",
    "> ❗ Este modelo é fortemente inspirado [neste post da documentação do Danfo.](https://danfo.jsdata.org/examples/titanic-survival-prediction-using-danfo.js-and-tensorflow.js)\n",
    "> "
   ]
  },
  {
   "cell_type": "markdown",
   "metadata": {},
   "source": [
    "### Importar *libs*"
   ]
  },
  {
   "cell_type": "code",
   "execution_count": 9,
   "metadata": {},
   "outputs": [
    {
     "ename": "TypeError",
     "evalue": "Unable to get CWD\n  Caused by:\n    No such file or directory (os error 2)",
     "output_type": "error",
     "traceback": [
      "Stack trace:",
      "TypeError: Unable to get CWD",
      "  Caused by:",
      "    No such file or directory (os error 2)",
      "    at async <anonymous>:1:49"
     ]
    }
   ],
   "source": [
    "import dfd from 'danfojs-node';\n",
    "\n",
    "const tf = dfd.tensorflow;"
   ]
  },
  {
   "cell_type": "markdown",
   "metadata": {},
   "source": [
    "### Carregar dados\n",
    "\n",
    "Os dados serão carregados de um `csv`, pré-baixado no diretório `./data` e que foi [obtido da Universidade de Stanford](https://web.stanford.edu/class/archive/cs/cs109/cs109.1166/stuff/titanic.csv)."
   ]
  },
  {
   "cell_type": "code",
   "execution_count": 5,
   "metadata": {},
   "outputs": [
    {
     "name": "stdout",
     "output_type": "stream",
     "text": [
      "╔════════════╤═══════════════════╤═══════════════════╤═══════════════════╤═══════════════════╤═══════════════════╤═══════════════════╤═══════════════════╤═══════════════════╗\n",
      "║            │ Survived          │ Pclass            │ Name              │ Sex               │ Age               │ Siblings/Spouse…  │ Parents/Childre…  │ Fare              ║\n",
      "╟────────────┼───────────────────┼───────────────────┼───────────────────┼───────────────────┼───────────────────┼───────────────────┼───────────────────┼───────────────────╢\n",
      "║ 0          │ 0                 │ 3                 │ Mr. Owen Harris…  │ male              │ 22                │ 1                 │ 0                 │ 7.25              ║\n",
      "╟────────────┼───────────────────┼───────────────────┼───────────────────┼───────────────────┼───────────────────┼───────────────────┼───────────────────┼───────────────────╢\n",
      "║ 1          │ 1                 │ 1                 │ Mrs. John Bradl…  │ female            │ 38                │ 1                 │ 0                 │ 71.2833           ║\n",
      "╟────────────┼───────────────────┼───────────────────┼───────────────────┼───────────────────┼───────────────────┼───────────────────┼───────────────────┼───────────────────╢\n",
      "║ 2          │ 1                 │ 3                 │ Miss. Laina Hei…  │ female            │ 26                │ 0                 │ 0                 │ 7.925             ║\n",
      "╟────────────┼───────────────────┼───────────────────┼───────────────────┼───────────────────┼───────────────────┼───────────────────┼───────────────────┼───────────────────╢\n",
      "║ 3          │ 1                 │ 1                 │ Mrs. Jacques He…  │ female            │ 35                │ 1                 │ 0                 │ 53.1              ║\n",
      "╟────────────┼───────────────────┼───────────────────┼───────────────────┼───────────────────┼───────────────────┼───────────────────┼───────────────────┼───────────────────╢\n",
      "║ 4          │ 0                 │ 3                 │ Mr. William Hen…  │ male              │ 35                │ 0                 │ 0                 │ 8.05              ║\n",
      "╚════════════╧═══════════════════╧═══════════════════╧═══════════════════╧═══════════════════╧═══════════════════╧═══════════════════╧═══════════════════╧═══════════════════╝\n",
      "\n"
     ]
    }
   ],
   "source": [
    "\n",
    "\n",
    "const load_data = async () => await dfd.readCSV( \"./data/titanic.csv\" );\n",
    "\n",
    "const df = await load_data();\n",
    "\n",
    "df.head().print(); // printa as primeiras 5 linhas do dataframe"
   ]
  },
  {
   "cell_type": "markdown",
   "metadata": {},
   "source": [
    "### Investigar os dados\n",
    "\n",
    "Vamos operar alguns comandos para entender melhor os dados que temos em mãos."
   ]
  },
  {
   "cell_type": "code",
   "execution_count": 6,
   "metadata": {},
   "outputs": [
    {
     "name": "stdout",
     "output_type": "stream",
     "text": [
      "╔═════════════════════════╤═════════╗\n",
      "║ Survived                │ int32   ║\n",
      "╟─────────────────────────┼─────────╢\n",
      "║ Pclass                  │ int32   ║\n",
      "╟─────────────────────────┼─────────╢\n",
      "║ Name                    │ string  ║\n",
      "╟─────────────────────────┼─────────╢\n",
      "║ Sex                     │ string  ║\n",
      "╟─────────────────────────┼─────────╢\n",
      "║ Age                     │ int32   ║\n",
      "╟─────────────────────────┼─────────╢\n",
      "║ Siblings/Spouses Aboard │ int32   ║\n",
      "╟─────────────────────────┼─────────╢\n",
      "║ Parents/Children Aboard │ int32   ║\n",
      "╟─────────────────────────┼─────────╢\n",
      "║ Fare                    │ float32 ║\n",
      "╚═════════════════════════╧═════════╝\n",
      "\n"
     ]
    }
   ],
   "source": [
    "df.ctypes.print(); // printa os tipos de dados de cada coluna"
   ]
  },
  {
   "cell_type": "markdown",
   "metadata": {},
   "source": [
    "Vemos que temos duas colunas que são do tipo `string` ('Name' e 'Sex'). \n",
    "\n",
    "Para nosso modelo, precisamos que todas as colunas sejam numéricas. As redes neurais que vamos utilizar não conseguem lidar com strings muito bem.\n",
    "\n",
    "Mas antes de resolver esse problema, vamos ter um panorama estatístico dos dados."
   ]
  },
  {
   "cell_type": "code",
   "execution_count": 11,
   "metadata": {},
   "outputs": [
    {
     "name": "stdout",
     "output_type": "stream",
     "text": [
      "╔════════════╤═══════════════════╤═══════════════════╤═══════════════════╤═══════════════════╤═══════════════════╤═══════════════════╗\n",
      "║            │ Survived          │ Pclass            │ Age               │ Siblings/Spouse…  │ Parents/Childre…  │ Fare              ║\n",
      "╟────────────┼───────────────────┼───────────────────┼───────────────────┼───────────────────┼───────────────────┼───────────────────╢\n",
      "║ count      │ 887               │ 887               │ 887               │ 887               │ 887               │ 887               ║\n",
      "╟────────────┼───────────────────┼───────────────────┼───────────────────┼───────────────────┼───────────────────┼───────────────────╢\n",
      "║ mean       │ 0.3855693348365…  │ 2.3055242390078…  │ 29.471443066516…  │ 0.5253664036076…  │ 0.3833145434047…  │ 32.305420180383…  ║\n",
      "╟────────────┼───────────────────┼───────────────────┼───────────────────┼───────────────────┼───────────────────┼───────────────────╢\n",
      "║ std        │ 0.4870041177510…  │ 0.8366620036697…  │ 14.121908405462…  │ 1.1046685538675…  │ 0.8074659070316…  │ 49.7820404001739  ║\n",
      "╟────────────┼───────────────────┼───────────────────┼───────────────────┼───────────────────┼───────────────────┼───────────────────╢\n",
      "║ min        │ 0                 │ 1                 │ 0.42              │ 0                 │ 0                 │ 0                 ║\n",
      "╟────────────┼───────────────────┼───────────────────┼───────────────────┼───────────────────┼───────────────────┼───────────────────╢\n",
      "║ median     │ 0                 │ 3                 │ 28                │ 0                 │ 0                 │ 14.4542           ║\n",
      "╟────────────┼───────────────────┼───────────────────┼───────────────────┼───────────────────┼───────────────────┼───────────────────╢\n",
      "║ max        │ 1                 │ 3                 │ 80                │ 8                 │ 6                 │ 512.3292          ║\n",
      "╟────────────┼───────────────────┼───────────────────┼───────────────────┼───────────────────┼───────────────────┼───────────────────╢\n",
      "║ variance   │ 0.2371730107064…  │ 0.7000033083847…  │ 199.428297012274  │ 1.2202926139038…  │ 0.6520011910184…  │ 2478.2515464045…  ║\n",
      "╚════════════╧═══════════════════╧═══════════════════╧═══════════════════╧═══════════════════╧═══════════════════╧═══════════════════╝\n",
      "\n"
     ]
    }
   ],
   "source": [
    "df.describe().print(); // printa estatísticas descritivas do dataframe"
   ]
  }
 ],
 "metadata": {
  "kernelspec": {
   "display_name": "Deno",
   "language": "typescript",
   "name": "deno"
  },
  "language_info": {
   "codemirror_mode": "typescript",
   "file_extension": ".ts",
   "mimetype": "text/x.typescript",
   "name": "typescript",
   "nbconvert_exporter": "script",
   "pygments_lexer": "typescript",
   "version": "5.6.2"
  }
 },
 "nbformat": 4,
 "nbformat_minor": 4
}

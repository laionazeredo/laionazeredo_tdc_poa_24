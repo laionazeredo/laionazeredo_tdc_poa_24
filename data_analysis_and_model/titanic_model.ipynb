{
 "cells": [
  {
   "cell_type": "markdown",
   "metadata": {},
   "source": [
    "# Titanic Survival Prediction\n",
    "\n",
    "> ❗ Este modelo é fortemente inspirado [neste post da documentação do Danfo.](https://danfo.jsdata.org/examples/titanic-survival-prediction-using-danfo.js-and-tensorflow.js)\n",
    "> "
   ]
  },
  {
   "cell_type": "markdown",
   "metadata": {},
   "source": [
    "### Importar *libs*"
   ]
  },
  {
   "cell_type": "code",
   "execution_count": 114,
   "metadata": {},
   "outputs": [],
   "source": [
    "import dfd, { DataFrame } from 'danfojs-node';\n",
    "\n",
    "const tf = dfd.tensorflow;"
   ]
  },
  {
   "cell_type": "markdown",
   "metadata": {},
   "source": [
    "### Carregar dados\n",
    "\n",
    "Os dados serão carregados de um `csv`, pré-baixado no diretório `./data` e que foi [obtido da Universidade de Stanford](https://web.stanford.edu/class/archive/cs/cs109/cs109.1166/stuff/titanic.csv)."
   ]
  },
  {
   "cell_type": "code",
   "execution_count": 115,
   "metadata": {},
   "outputs": [
    {
     "name": "stdout",
     "output_type": "stream",
     "text": [
      "╔════════════╤═══════════════════╤═══════════════════╤═══════════════════╤═══════════════════╤═══════════════════╤═══════════════════╤═══════════════════╤═══════════════════╗\n",
      "║            │ Survived          │ Pclass            │ Name              │ Sex               │ Age               │ Siblings/Spouse…  │ Parents/Childre…  │ Fare              ║\n",
      "╟────────────┼───────────────────┼───────────────────┼───────────────────┼───────────────────┼───────────────────┼───────────────────┼───────────────────┼───────────────────╢\n",
      "║ 0          │ 0                 │ 3                 │ Mr. Owen Harris…  │ male              │ 22                │ 1                 │ 0                 │ 7.25              ║\n",
      "╟────────────┼───────────────────┼───────────────────┼───────────────────┼───────────────────┼───────────────────┼───────────────────┼───────────────────┼───────────────────╢\n",
      "║ 1          │ 1                 │ 1                 │ Mrs. John Bradl…  │ female            │ 38                │ 1                 │ 0                 │ 71.2833           ║\n",
      "╟────────────┼───────────────────┼───────────────────┼───────────────────┼───────────────────┼───────────────────┼───────────────────┼───────────────────┼───────────────────╢\n",
      "║ 2          │ 1                 │ 3                 │ Miss. Laina Hei…  │ female            │ 26                │ 0                 │ 0                 │ 7.925             ║\n",
      "╟────────────┼───────────────────┼───────────────────┼───────────────────┼───────────────────┼───────────────────┼───────────────────┼───────────────────┼───────────────────╢\n",
      "║ 3          │ 1                 │ 1                 │ Mrs. Jacques He…  │ female            │ 35                │ 1                 │ 0                 │ 53.1              ║\n",
      "╟────────────┼───────────────────┼───────────────────┼───────────────────┼───────────────────┼───────────────────┼───────────────────┼───────────────────┼───────────────────╢\n",
      "║ 4          │ 0                 │ 3                 │ Mr. William Hen…  │ male              │ 35                │ 0                 │ 0                 │ 8.05              ║\n",
      "╚════════════╧═══════════════════╧═══════════════════╧═══════════════════╧═══════════════════╧═══════════════════╧═══════════════════╧═══════════════════╧═══════════════════╝\n",
      "\n"
     ]
    }
   ],
   "source": [
    "\n",
    "\n",
    "const load_data = async () => await dfd.readCSV( \"./data/titanic.csv\" );\n",
    "\n",
    "let df: DataFrame = await load_data();\n",
    "\n",
    "df.head().print(); // printa as primeiras 5 linhas do dataframe"
   ]
  },
  {
   "cell_type": "markdown",
   "metadata": {},
   "source": [
    "### Investigar os dados\n",
    "\n",
    "Vamos operar alguns comandos para entender melhor os dados que temos em mãos."
   ]
  },
  {
   "cell_type": "code",
   "execution_count": 116,
   "metadata": {},
   "outputs": [
    {
     "name": "stdout",
     "output_type": "stream",
     "text": [
      "╔═════════════════════════╤═════════╗\n",
      "║ Survived                │ int32   ║\n",
      "╟─────────────────────────┼─────────╢\n",
      "║ Pclass                  │ int32   ║\n",
      "╟─────────────────────────┼─────────╢\n",
      "║ Name                    │ string  ║\n",
      "╟─────────────────────────┼─────────╢\n",
      "║ Sex                     │ string  ║\n",
      "╟─────────────────────────┼─────────╢\n",
      "║ Age                     │ int32   ║\n",
      "╟─────────────────────────┼─────────╢\n",
      "║ Siblings/Spouses Aboard │ int32   ║\n",
      "╟─────────────────────────┼─────────╢\n",
      "║ Parents/Children Aboard │ int32   ║\n",
      "╟─────────────────────────┼─────────╢\n",
      "║ Fare                    │ float32 ║\n",
      "╚═════════════════════════╧═════════╝\n",
      "\n"
     ]
    }
   ],
   "source": [
    "df.ctypes.print(); // printa os tipos de dados de cada coluna"
   ]
  },
  {
   "cell_type": "markdown",
   "metadata": {},
   "source": [
    "Vemos que temos duas colunas que são do tipo `string` ('Name' e 'Sex'). \n",
    "\n",
    "Para nosso modelo, precisamos que todas as colunas sejam numéricas. As redes neurais que vamos utilizar não conseguem lidar com strings muito bem.\n",
    "\n",
    "Mas antes de resolver esse problema, vamos ter um panorama estatístico dos dados."
   ]
  },
  {
   "cell_type": "code",
   "execution_count": 117,
   "metadata": {},
   "outputs": [
    {
     "name": "stdout",
     "output_type": "stream",
     "text": [
      "╔════════════╤═══════════════════╤═══════════════════╤═══════════════════╤═══════════════════╤═══════════════════╤═══════════════════╗\n",
      "║            │ Survived          │ Pclass            │ Age               │ Siblings/Spouse…  │ Parents/Childre…  │ Fare              ║\n",
      "╟────────────┼───────────────────┼───────────────────┼───────────────────┼───────────────────┼───────────────────┼───────────────────╢\n",
      "║ count      │ 887               │ 887               │ 887               │ 887               │ 887               │ 887               ║\n",
      "╟────────────┼───────────────────┼───────────────────┼───────────────────┼───────────────────┼───────────────────┼───────────────────╢\n",
      "║ mean       │ 0.3855693348365…  │ 2.3055242390078…  │ 29.471443066516…  │ 0.5253664036076…  │ 0.3833145434047…  │ 32.305420180383…  ║\n",
      "╟────────────┼───────────────────┼───────────────────┼───────────────────┼───────────────────┼───────────────────┼───────────────────╢\n",
      "║ std        │ 0.4870041177510…  │ 0.8366620036697…  │ 14.121908405462…  │ 1.1046685538675…  │ 0.8074659070316…  │ 49.7820404001739  ║\n",
      "╟────────────┼───────────────────┼───────────────────┼───────────────────┼───────────────────┼───────────────────┼───────────────────╢\n",
      "║ min        │ 0                 │ 1                 │ 0.42              │ 0                 │ 0                 │ 0                 ║\n",
      "╟────────────┼───────────────────┼───────────────────┼───────────────────┼───────────────────┼───────────────────┼───────────────────╢\n",
      "║ median     │ 0                 │ 3                 │ 28                │ 0                 │ 0                 │ 14.4542           ║\n",
      "╟────────────┼───────────────────┼───────────────────┼───────────────────┼───────────────────┼───────────────────┼───────────────────╢\n",
      "║ max        │ 1                 │ 3                 │ 80                │ 8                 │ 6                 │ 512.3292          ║\n",
      "╟────────────┼───────────────────┼───────────────────┼───────────────────┼───────────────────┼───────────────────┼───────────────────╢\n",
      "║ variance   │ 0.2371730107064…  │ 0.7000033083847…  │ 199.428297012274  │ 1.2202926139038…  │ 0.6520011910184…  │ 2478.2515464045…  ║\n",
      "╚════════════╧═══════════════════╧═══════════════════╧═══════════════════╧═══════════════════╧═══════════════════╧═══════════════════╝\n",
      "\n"
     ]
    }
   ],
   "source": [
    "df.describe().print(); // printa estatísticas descritivas do dataframe"
   ]
  },
  {
   "cell_type": "markdown",
   "metadata": {},
   "source": [
    "### Limpeza de dados\n",
    "\n",
    "Essa coluna 'Name' não é relevante para nosso modelo, então vamos removê-la."
   ]
  },
  {
   "cell_type": "code",
   "execution_count": 118,
   "metadata": {},
   "outputs": [
    {
     "name": "stdout",
     "output_type": "stream",
     "text": [
      "╔════════════╤═══════════════════╤═══════════════════╤═══════════════════╤═══════════════════╤═══════════════════╤═══════════════════╤═══════════════════╗\n",
      "║            │ Survived          │ Pclass            │ Sex               │ Age               │ Siblings/Spouse…  │ Parents/Childre…  │ Fare              ║\n",
      "╟────────────┼───────────────────┼───────────────────┼───────────────────┼───────────────────┼───────────────────┼───────────────────┼───────────────────╢\n",
      "║ 0          │ 0                 │ 3                 │ male              │ 22                │ 1                 │ 0                 │ 7.25              ║\n",
      "╟────────────┼───────────────────┼───────────────────┼───────────────────┼───────────────────┼───────────────────┼───────────────────┼───────────────────╢\n",
      "║ 1          │ 1                 │ 1                 │ female            │ 38                │ 1                 │ 0                 │ 71.2833           ║\n",
      "╟────────────┼───────────────────┼───────────────────┼───────────────────┼───────────────────┼───────────────────┼───────────────────┼───────────────────╢\n",
      "║ 2          │ 1                 │ 3                 │ female            │ 26                │ 0                 │ 0                 │ 7.925             ║\n",
      "╟────────────┼───────────────────┼───────────────────┼───────────────────┼───────────────────┼───────────────────┼───────────────────┼───────────────────╢\n",
      "║ 3          │ 1                 │ 1                 │ female            │ 35                │ 1                 │ 0                 │ 53.1              ║\n",
      "╟────────────┼───────────────────┼───────────────────┼───────────────────┼───────────────────┼───────────────────┼───────────────────┼───────────────────╢\n",
      "║ 4          │ 0                 │ 3                 │ male              │ 35                │ 0                 │ 0                 │ 8.05              ║\n",
      "╚════════════╧═══════════════════╧═══════════════════╧═══════════════════╧═══════════════════╧═══════════════════╧═══════════════════╧═══════════════════╝\n",
      "\n"
     ]
    }
   ],
   "source": [
    "df = df.drop( { columns: [ 'Name' ] } ); // remove a coluna \"Name\" do dataframe\n",
    "df.head().print();"
   ]
  },
  {
   "cell_type": "markdown",
   "metadata": {},
   "source": [
    "Agora vamos atacar a coluna 'Sex'. Vamos transformar essa coluna em uma coluna numérica.\n",
    "\n",
    "Vamos primeiro investigar que valores ela assume."
   ]
  },
  {
   "cell_type": "code",
   "execution_count": 119,
   "metadata": {},
   "outputs": [
    {
     "name": "stdout",
     "output_type": "stream",
     "text": [
      "╔═══╤════════╗\n",
      "║ 0 │ male   ║\n",
      "╟───┼────────╢\n",
      "║ 1 │ female ║\n",
      "╚═══╧════════╝\n",
      "\n"
     ]
    }
   ],
   "source": [
    "const uniqueValues = df[ 'Sex' ].unique();\n",
    "uniqueValues.print();"
   ]
  },
  {
   "cell_type": "markdown",
   "metadata": {},
   "source": [
    "Vamos verificar se há valores nulos na amostra."
   ]
  },
  {
   "cell_type": "code",
   "execution_count": 120,
   "metadata": {},
   "outputs": [
    {
     "name": "stdout",
     "output_type": "stream",
     "text": [
      "false\n"
     ]
    }
   ],
   "source": [
    "const isNA = df.isNa(); // verifica se há valores NA, associando true a valores NA e false a valores não NA\n",
    "const isThereNA = isNA.values.some( ( value ) => value === true ); // verifica se há algum valor NA\n",
    "console.log( isThereNA );"
   ]
  },
  {
   "cell_type": "markdown",
   "metadata": {},
   "source": [
    "Legal. Agora sabemos que não há valores inválidos em toda a amostra e que a coluna 'Sex' só assume os valores 'male' ou 'female'.\n",
    "\n",
    "Então vamos transformar esses valores em 0 (male) e 1 (female)."
   ]
  },
  {
   "cell_type": "code",
   "execution_count": 121,
   "metadata": {},
   "outputs": [
    {
     "name": "stdout",
     "output_type": "stream",
     "text": [
      "╔════════════╤═══════════════════╤═══════════════════╤═══════════════════╤═══════════════════╤═══════════════════╤═══════════════════╤═══════════════════╗\n",
      "║            │ Survived          │ Pclass            │ Sex               │ Age               │ Siblings/Spouse…  │ Parents/Childre…  │ Fare              ║\n",
      "╟────────────┼───────────────────┼───────────────────┼───────────────────┼───────────────────┼───────────────────┼───────────────────┼───────────────────╢\n",
      "║ 0          │ 0                 │ 3                 │ 0                 │ 22                │ 1                 │ 0                 │ 7.25              ║\n",
      "╟────────────┼───────────────────┼───────────────────┼───────────────────┼───────────────────┼───────────────────┼───────────────────┼───────────────────╢\n",
      "║ 1          │ 1                 │ 1                 │ 1                 │ 38                │ 1                 │ 0                 │ 71.2833           ║\n",
      "╟────────────┼───────────────────┼───────────────────┼───────────────────┼───────────────────┼───────────────────┼───────────────────┼───────────────────╢\n",
      "║ 2          │ 1                 │ 3                 │ 1                 │ 26                │ 0                 │ 0                 │ 7.925             ║\n",
      "╟────────────┼───────────────────┼───────────────────┼───────────────────┼───────────────────┼───────────────────┼───────────────────┼───────────────────╢\n",
      "║ 3          │ 1                 │ 1                 │ 1                 │ 35                │ 1                 │ 0                 │ 53.1              ║\n",
      "╟────────────┼───────────────────┼───────────────────┼───────────────────┼───────────────────┼───────────────────┼───────────────────┼───────────────────╢\n",
      "║ 4          │ 0                 │ 3                 │ 0                 │ 35                │ 0                 │ 0                 │ 8.05              ║\n",
      "╚════════════╧═══════════════════╧═══════════════════╧═══════════════════╧═══════════════════╧═══════════════════╧═══════════════════╧═══════════════════╝\n",
      "\n"
     ]
    }
   ],
   "source": [
    "df[ 'Sex' ] = df[ 'Sex' ].map( value => value === 'male' ? 0 : 1 );\n",
    "df.head().print();"
   ]
  },
  {
   "cell_type": "markdown",
   "metadata": {},
   "source": [
    "Vamos checar novamente os tipos das colunas."
   ]
  },
  {
   "cell_type": "code",
   "execution_count": 122,
   "metadata": {},
   "outputs": [
    {
     "name": "stdout",
     "output_type": "stream",
     "text": [
      "╔═════════════════════════╤═════════╗\n",
      "║ Survived                │ int32   ║\n",
      "╟─────────────────────────┼─────────╢\n",
      "║ Pclass                  │ int32   ║\n",
      "╟─────────────────────────┼─────────╢\n",
      "║ Sex                     │ int32   ║\n",
      "╟─────────────────────────┼─────────╢\n",
      "║ Age                     │ int32   ║\n",
      "╟─────────────────────────┼─────────╢\n",
      "║ Siblings/Spouses Aboard │ int32   ║\n",
      "╟─────────────────────────┼─────────╢\n",
      "║ Parents/Children Aboard │ int32   ║\n",
      "╟─────────────────────────┼─────────╢\n",
      "║ Fare                    │ float32 ║\n",
      "╚═════════════════════════╧═════════╝\n",
      "\n"
     ]
    }
   ],
   "source": [
    "df.ctypes.print();"
   ]
  },
  {
   "cell_type": "markdown",
   "metadata": {},
   "source": [
    "Legal. Apenas colunas numéricas. Podemos prosseguir com nossa análise."
   ]
  },
  {
   "cell_type": "markdown",
   "metadata": {},
   "source": [
    "### Ajustes na amostra\n",
    "\n",
    "Se queremos prever a change de um adulto morrer caso estivesse no Titanic, precisamos remover os dados de crianças para adequar a amostra. "
   ]
  },
  {
   "cell_type": "code",
   "execution_count": 123,
   "metadata": {},
   "outputs": [
    {
     "name": "stdout",
     "output_type": "stream",
     "text": [
      "╔════════════╤═══════════════════╤═══════════════════╤═══════════════════╤═══════════════════╤═══════════════════╤═══════════════════╤═══════════════════╗\n",
      "║            │ Survived          │ Pclass            │ Sex               │ Age               │ Siblings/Spouse…  │ Parents/Childre…  │ Fare              ║\n",
      "╟────────────┼───────────────────┼───────────────────┼───────────────────┼───────────────────┼───────────────────┼───────────────────┼───────────────────╢\n",
      "║ count      │ 757               │ 757               │ 757               │ 757               │ 757               │ 757               │ 757               ║\n",
      "╟────────────┼───────────────────┼───────────────────┼───────────────────┼───────────────────┼───────────────────┼───────────────────┼───────────────────╢\n",
      "║ mean       │ 0.3659180977542…  │ 2.2483487450462…  │ 0.3315719947159…  │ 32.953104359313…  │ 0.3315719947159…  │ 0.2694848084544…  │ 32.519670673711…  ║\n",
      "╟────────────┼───────────────────┼───────────────────┼───────────────────┼───────────────────┼───────────────────┼───────────────────┼───────────────────╢\n",
      "║ std        │ 0.4820051358181…  │ 0.8524090014360…  │ 0.4710893450997…  │ 12.034429511077…  │ 0.7326254062488…  │ 0.7533216559314…  │ 52.301402734972…  ║\n",
      "╟────────────┼───────────────────┼───────────────────┼───────────────────┼───────────────────┼───────────────────┼───────────────────┼───────────────────╢\n",
      "║ min        │ 0                 │ 1                 │ 0                 │ 18                │ 0                 │ 0                 │ 0                 ║\n",
      "╟────────────┼───────────────────┼───────────────────┼───────────────────┼───────────────────┼───────────────────┼───────────────────┼───────────────────╢\n",
      "║ median     │ 0                 │ 3                 │ 0                 │ 30                │ 0                 │ 0                 │ 13                ║\n",
      "╟────────────┼───────────────────┼───────────────────┼───────────────────┼───────────────────┼───────────────────┼───────────────────┼───────────────────╢\n",
      "║ max        │ 1                 │ 3                 │ 1                 │ 80                │ 8                 │ 6                 │ 512.3292          ║\n",
      "╟────────────┼───────────────────┼───────────────────┼───────────────────┼───────────────────┼───────────────────┼───────────────────┼───────────────────╢\n",
      "║ variance   │ 0.2323289509551…  │ 0.7266011057292…  │ 0.2219251710665…  │ 144.82749365708…  │ 0.5367399858813…  │ 0.5674935172953…  │ 2735.4367280457…  ║\n",
      "╚════════════╧═══════════════════╧═══════════════════╧═══════════════════╧═══════════════════╧═══════════════════╧═══════════════════╧═══════════════════╝\n",
      "\n"
     ]
    }
   ],
   "source": [
    "const MAIORIDADE = 18;\n",
    "\n",
    "let dfMaioridade = df.query( df[ 'Age' ].ge( MAIORIDADE ) ); // aplica um filtro e cria um novo dataframe com os dados filtrados\n",
    "\n",
    "dfMaioridade.describe().print(); // verifica se o mínimo da idade ficou em 18"
   ]
  },
  {
   "cell_type": "markdown",
   "metadata": {},
   "source": [
    "Perfeito. Agora temos somente dados de pessoas maiores de idade.\n"
   ]
  },
  {
   "cell_type": "markdown",
   "metadata": {},
   "source": [
    "### Modelo\n",
    "\n",
    "Agora que temos os dados limpos, vamos avançar para a criação do modelo."
   ]
  },
  {
   "cell_type": "markdown",
   "metadata": {},
   "source": [
    "A primeira coisa que devemos fazer é criar uma função que normalize nossos dados e retorne tensores."
   ]
  },
  {
   "cell_type": "code",
   "execution_count": 124,
   "metadata": {},
   "outputs": [],
   "source": [
    "const processData = (df) => {\n",
    "  let x_train, y_train;\n",
    "    x_train = df.iloc({ columns: [`1:`] })\n",
    "    y_train = df['Survived']\n",
    "\n",
    "    // padroniza os dados usando MinMaxScaler\n",
    "    let scaler = new dfd.MinMaxScaler()\n",
    "    scaler.fit(x_train)\n",
    "    x_train = scaler.transform(x_train)\n",
    "    return [x_train.tensor, y_train.tensor] //retorna os dados como tensores\n",
    "}\n",
    "\n",
    "const tensors = processData(dfMaioridade)"
   ]
  },
  {
   "cell_type": "markdown",
   "metadata": {},
   "source": [
    "Agora podemos criar uma função que retorna nosso modelo.\n",
    "Nessa iteração nosso modelo de rede neural sequencial com 4 camadas densas, sendo que a função de ativação da última camada é a função sigmóide."
   ]
  },
  {
   "cell_type": "code",
   "execution_count": 125,
   "metadata": {},
   "outputs": [],
   "source": [
    "function get_model() {\n",
    "  const model = tf.sequential();\n",
    "  model.add(tf.layers.dense({ inputShape: [6], units: 124, activation: 'relu', kernelInitializer: 'leCunNormal' }));\n",
    "  model.add(tf.layers.dense({ units: 64, activation: 'relu' }));\n",
    "  model.add(tf.layers.dense({ units: 32, activation: 'relu' }));\n",
    "  model.add(tf.layers.dense({ units: 1, activation: \"sigmoid\" }))\n",
    "  model.summary();\n",
    "  return model\n",
    "}"
   ]
  },
  {
   "cell_type": "markdown",
   "metadata": {},
   "source": [
    "E agora que temos o modelo, podemos treiná-lo. A função train irá treinar o modelo e retornar um objeto com as métricas de treinamento."
   ]
  },
  {
   "cell_type": "code",
   "execution_count": 126,
   "metadata": {},
   "outputs": [
    {
     "name": "stdout",
     "output_type": "stream",
     "text": [
      "__________________________________________________________________________________________\n",
      "Layer (type)                Input Shape               Output shape              Param #   \n",
      "==========================================================================================\n",
      "dense_Dense33 (Dense)       [[null,6]]                [null,124]                868       \n",
      "__________________________________________________________________________________________\n",
      "dense_Dense34 (Dense)       [[null,124]]              [null,64]                 8000      \n",
      "__________________________________________________________________________________________\n",
      "dense_Dense35 (Dense)       [[null,64]]               [null,32]                 2080      \n",
      "__________________________________________________________________________________________\n",
      "dense_Dense36 (Dense)       [[null,32]]               [null,1]                  33        \n",
      "==========================================================================================\n",
      "Total params: 10981\n",
      "Trainable params: 10981\n",
      "Non-trainable params: 0\n",
      "__________________________________________________________________________________________\n",
      "Treinamento iniciado....\n",
      "EPOCH (1): Acurácia do treinamento: 78.02 |\n",
      "                                                   Acurácia da Validação:  84.87 | Validation Loss: 42.34\n",
      "EPOCH (2): Acurácia do treinamento: 80.99 |\n",
      "                                                   Acurácia da Validação:  83.55 | Validation Loss: 39.38\n",
      "EPOCH (3): Acurácia do treinamento: 80.00 |\n",
      "                                                   Acurácia da Validação:  84.87 | Validation Loss: 36.34\n",
      "EPOCH (4): Acurácia do treinamento: 80.99 |\n",
      "                                                   Acurácia da Validação:  84.21 | Validation Loss: 36.09\n",
      "EPOCH (5): Acurácia do treinamento: 81.16 |\n",
      "                                                   Acurácia da Validação:  84.21 | Validation Loss: 36.38\n",
      "EPOCH (6): Acurácia do treinamento: 81.65 |\n",
      "                                                   Acurácia da Validação:  84.21 | Validation Loss: 36.57\n",
      "EPOCH (7): Acurácia do treinamento: 80.99 |\n",
      "                                                   Acurácia da Validação:  84.87 | Validation Loss: 36.04\n",
      "EPOCH (8): Acurácia do treinamento: 81.16 |\n",
      "                                                   Acurácia da Validação:  84.87 | Validation Loss: 35.53\n",
      "EPOCH (9): Acurácia do treinamento: 80.83 |\n",
      "                                                   Acurácia da Validação:  84.87 | Validation Loss: 35.70\n",
      "EPOCH (10): Acurácia do treinamento: 81.16 |\n",
      "                                                   Acurácia da Validação:  84.87 | Validation Loss: 35.40\n",
      "EPOCH (11): Acurácia do treinamento: 82.15 |\n",
      "                                                   Acurácia da Validação:  84.87 | Validation Loss: 35.80\n",
      "EPOCH (12): Acurácia do treinamento: 81.16 |\n",
      "                                                   Acurácia da Validação:  84.87 | Validation Loss: 35.74\n",
      "EPOCH (13): Acurácia do treinamento: 81.65 |\n",
      "                                                   Acurácia da Validação:  84.87 | Validation Loss: 35.69\n",
      "EPOCH (14): Acurácia do treinamento: 81.82 |\n",
      "                                                   Acurácia da Validação:  84.21 | Validation Loss: 36.23\n",
      "EPOCH (15): Acurácia do treinamento: 81.49 |\n",
      "                                                   Acurácia da Validação:  84.87 | Validation Loss: 35.44\n"
     ]
    }
   ],
   "source": [
    "async function train(data) {\n",
    "  const model = get_model()\n",
    "  const x_train = data[0]\n",
    "  const y_train = data[1]\n",
    "\n",
    "  model.compile({\n",
    "      optimizer: \"rmsprop\",\n",
    "      loss: 'binaryCrossentropy',\n",
    "      metrics: ['accuracy'],\n",
    "  });\n",
    "\n",
    "  console.log(\"Treinamento iniciado....\")\n",
    "  await model.fit(x_train, y_train,{\n",
    "      batchSize: 32,\n",
    "      epochs: 15,\n",
    "      validationSplit: 0.2,\n",
    "      callbacks:{\n",
    "          onEpochEnd: async(epoch, logs)=>{\n",
    "              console.log(`EPOCH (${epoch + 1}): Acurácia do treinamento: ${(logs.acc * 100).toFixed(2)} |\n",
    "                                                   Acurácia da Validação:  ${(logs.val_acc * 100).toFixed(2)} | Validation Loss: ${(logs.val_loss * 100).toFixed(2)}`);\n",
    "          }\n",
    "      }\n",
    "  });\n",
    "\n",
    "  return model\n",
    "}\n",
    "\n",
    "const trainedModel = await train(tensors)"
   ]
  },
  {
   "cell_type": "markdown",
   "metadata": {},
   "source": [
    "No output acima é possível verificar a acurácia do modelo, tanto em treinamento quanto em validação e a perda em validação."
   ]
  },
  {
   "cell_type": "markdown",
   "metadata": {},
   "source": [
    "#### Próximos passos para você\n",
    "\n",
    "- Melhorar a acurácia do modelo\n",
    "- Salvar o modelo treinado (model.save())\n",
    "- Criar uma pequena aplicação web para prever a chance de sobrevivência de um adulto no Titanic usando Deno Fresh e Tensorflow.JS ([Veja este exemplo](https://paul.kinlan.me/ml-deno-fresh-tensorflow/))"
   ]
  }
 ],
 "metadata": {
  "kernelspec": {
   "display_name": "Deno",
   "language": "typescript",
   "name": "deno"
  },
  "language_info": {
   "codemirror_mode": "typescript",
   "file_extension": ".ts",
   "mimetype": "text/x.typescript",
   "name": "typescript",
   "nbconvert_exporter": "script",
   "pygments_lexer": "typescript",
   "version": "5.6.2"
  }
 },
 "nbformat": 4,
 "nbformat_minor": 4
}
